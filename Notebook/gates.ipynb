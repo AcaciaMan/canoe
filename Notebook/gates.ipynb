{
  "cells": [
    {
      "cell_type": "code",
      "source": [
        "#load dataframe from pickle\n",
        "import pandas as pd\n",
        "\n",
        "# Load the DataFrame from the pickle file\n",
        "df = pd.read_pickle(\"c:/work/photo/pixels.pkl\")\n",
        "\n",
        "# Display the DataFrame\n",
        "df.info()"
      ],
      "outputs": [
        {
          "output_type": "stream",
          "name": "stdout",
          "text": [
            "<class 'pandas.core.frame.DataFrame'>\n",
            "RangeIndex: 738024 entries, 0 to 738023\n",
            "Data columns (total 5 columns):\n",
            " #   Column  Non-Null Count   Dtype\n",
            "---  ------  --------------   -----\n",
            " 0   x       738024 non-null  int32\n",
            " 1   y       738024 non-null  int32\n",
            " 2   r       738024 non-null  uint8\n",
            " 3   g       738024 non-null  uint8\n",
            " 4   b       738024 non-null  uint8\n",
            "dtypes: int32(2), uint8(3)\n",
            "memory usage: 7.7 MB\n"
          ]
        }
      ],
      "execution_count": 3,
      "metadata": {
        "collapsed": true,
        "jupyter": {
          "source_hidden": false,
          "outputs_hidden": false
        },
        "nteract": {
          "transient": {
            "deleting": false
          }
        },
        "execution": {
          "iopub.status.busy": "2024-10-20T03:09:46.856Z",
          "iopub.execute_input": "2024-10-20T03:09:46.860Z",
          "iopub.status.idle": "2024-10-20T03:09:46.872Z",
          "shell.execute_reply": "2024-10-20T03:09:46.878Z"
        }
      }
    },
    {
      "cell_type": "code",
      "source": [
        "# Set (x, y) as the multi-index\n",
        "df.set_index([\"x\", \"y\"], inplace=True)\n",
        "\n",
        "df.head(20)"
      ],
      "outputs": [
        {
          "output_type": "execute_result",
          "execution_count": 4,
          "data": {
            "text/plain": "       r   g   b\nx  y            \n0  0  91  82  55\n1  0  91  82  55\n2  0  91  82  55\n3  0  91  82  55\n4  0  91  82  55\n5  0  91  82  55\n6  0  91  82  55\n7  0  91  82  55\n8  0  91  82  55\n9  0  91  82  55\n10 0  91  82  55\n11 0  91  82  55\n12 0  91  81  57\n13 0  91  81  57\n14 0  91  81  57\n15 0  91  81  57\n16 0  91  81  57\n17 0  91  81  57\n18 0  91  81  57\n19 0  91  81  57",
            "text/html": "<div>\n<style scoped>\n    .dataframe tbody tr th:only-of-type {\n        vertical-align: middle;\n    }\n\n    .dataframe tbody tr th {\n        vertical-align: top;\n    }\n\n    .dataframe thead th {\n        text-align: right;\n    }\n</style>\n<table border=\"1\" class=\"dataframe\">\n  <thead>\n    <tr style=\"text-align: right;\">\n      <th></th>\n      <th></th>\n      <th>r</th>\n      <th>g</th>\n      <th>b</th>\n    </tr>\n    <tr>\n      <th>x</th>\n      <th>y</th>\n      <th></th>\n      <th></th>\n      <th></th>\n    </tr>\n  </thead>\n  <tbody>\n    <tr>\n      <th>0</th>\n      <th>0</th>\n      <td>91</td>\n      <td>82</td>\n      <td>55</td>\n    </tr>\n    <tr>\n      <th>1</th>\n      <th>0</th>\n      <td>91</td>\n      <td>82</td>\n      <td>55</td>\n    </tr>\n    <tr>\n      <th>2</th>\n      <th>0</th>\n      <td>91</td>\n      <td>82</td>\n      <td>55</td>\n    </tr>\n    <tr>\n      <th>3</th>\n      <th>0</th>\n      <td>91</td>\n      <td>82</td>\n      <td>55</td>\n    </tr>\n    <tr>\n      <th>4</th>\n      <th>0</th>\n      <td>91</td>\n      <td>82</td>\n      <td>55</td>\n    </tr>\n    <tr>\n      <th>5</th>\n      <th>0</th>\n      <td>91</td>\n      <td>82</td>\n      <td>55</td>\n    </tr>\n    <tr>\n      <th>6</th>\n      <th>0</th>\n      <td>91</td>\n      <td>82</td>\n      <td>55</td>\n    </tr>\n    <tr>\n      <th>7</th>\n      <th>0</th>\n      <td>91</td>\n      <td>82</td>\n      <td>55</td>\n    </tr>\n    <tr>\n      <th>8</th>\n      <th>0</th>\n      <td>91</td>\n      <td>82</td>\n      <td>55</td>\n    </tr>\n    <tr>\n      <th>9</th>\n      <th>0</th>\n      <td>91</td>\n      <td>82</td>\n      <td>55</td>\n    </tr>\n    <tr>\n      <th>10</th>\n      <th>0</th>\n      <td>91</td>\n      <td>82</td>\n      <td>55</td>\n    </tr>\n    <tr>\n      <th>11</th>\n      <th>0</th>\n      <td>91</td>\n      <td>82</td>\n      <td>55</td>\n    </tr>\n    <tr>\n      <th>12</th>\n      <th>0</th>\n      <td>91</td>\n      <td>81</td>\n      <td>57</td>\n    </tr>\n    <tr>\n      <th>13</th>\n      <th>0</th>\n      <td>91</td>\n      <td>81</td>\n      <td>57</td>\n    </tr>\n    <tr>\n      <th>14</th>\n      <th>0</th>\n      <td>91</td>\n      <td>81</td>\n      <td>57</td>\n    </tr>\n    <tr>\n      <th>15</th>\n      <th>0</th>\n      <td>91</td>\n      <td>81</td>\n      <td>57</td>\n    </tr>\n    <tr>\n      <th>16</th>\n      <th>0</th>\n      <td>91</td>\n      <td>81</td>\n      <td>57</td>\n    </tr>\n    <tr>\n      <th>17</th>\n      <th>0</th>\n      <td>91</td>\n      <td>81</td>\n      <td>57</td>\n    </tr>\n    <tr>\n      <th>18</th>\n      <th>0</th>\n      <td>91</td>\n      <td>81</td>\n      <td>57</td>\n    </tr>\n    <tr>\n      <th>19</th>\n      <th>0</th>\n      <td>91</td>\n      <td>81</td>\n      <td>57</td>\n    </tr>\n  </tbody>\n</table>\n</div>"
          },
          "metadata": {}
        }
      ],
      "execution_count": 4,
      "metadata": {
        "collapsed": true,
        "jupyter": {
          "source_hidden": false,
          "outputs_hidden": false
        },
        "nteract": {
          "transient": {
            "deleting": false
          }
        },
        "execution": {
          "iopub.status.busy": "2024-10-20T03:32:44.053Z",
          "iopub.execute_input": "2024-10-20T03:32:44.056Z",
          "iopub.status.idle": "2024-10-20T03:32:44.116Z",
          "shell.execute_reply": "2024-10-20T03:32:44.119Z"
        }
      }
    },
    {
      "cell_type": "code",
      "source": [],
      "outputs": [],
      "execution_count": null,
      "metadata": {
        "collapsed": true,
        "jupyter": {
          "source_hidden": false,
          "outputs_hidden": false
        },
        "nteract": {
          "transient": {
            "deleting": false
          }
        }
      }
    }
  ],
  "metadata": {
    "kernel_info": {
      "name": "python3"
    },
    "language_info": {
      "name": "python",
      "version": "3.10.8",
      "mimetype": "text/x-python",
      "codemirror_mode": {
        "name": "ipython",
        "version": 3
      },
      "pygments_lexer": "ipython3",
      "nbconvert_exporter": "python",
      "file_extension": ".py"
    },
    "kernelspec": {
      "argv": [
        "C:\\Tools\\Python310\\python.exe",
        "-m",
        "ipykernel_launcher",
        "-f",
        "{connection_file}"
      ],
      "display_name": "Python 3 (ipykernel)",
      "language": "python",
      "metadata": {
        "debugger": true
      },
      "name": "python3"
    },
    "nteract": {
      "version": "0.28.0"
    }
  },
  "nbformat": 4,
  "nbformat_minor": 0
}