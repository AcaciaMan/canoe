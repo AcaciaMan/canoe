{
  "cells": [
    {
      "cell_type": "code",
      "source": [
        "#load dataframe from pickle\n",
        "import pandas as pd\n",
        "\n",
        "# Load the DataFrame from the pickle file\n",
        "df = pd.read_pickle(\"c:/work/photo/pixels.pkl\")\n",
        "\n",
        "# Display the DataFrame\n",
        "df.info()"
      ],
      "outputs": [
        {
          "output_type": "stream",
          "name": "stdout",
          "text": [
            "<class 'pandas.core.frame.DataFrame'>\n",
            "RangeIndex: 738024 entries, 0 to 738023\n",
            "Data columns (total 5 columns):\n",
            " #   Column  Non-Null Count   Dtype\n",
            "---  ------  --------------   -----\n",
            " 0   x       738024 non-null  int32\n",
            " 1   y       738024 non-null  int32\n",
            " 2   r       738024 non-null  uint8\n",
            " 3   g       738024 non-null  uint8\n",
            " 4   b       738024 non-null  uint8\n",
            "dtypes: int32(2), uint8(3)\n",
            "memory usage: 7.7 MB\n"
          ]
        }
      ],
      "execution_count": 3,
      "metadata": {
        "collapsed": true,
        "jupyter": {
          "source_hidden": false,
          "outputs_hidden": false
        },
        "nteract": {
          "transient": {
            "deleting": false
          }
        },
        "execution": {
          "iopub.status.busy": "2024-10-20T03:09:46.856Z",
          "iopub.execute_input": "2024-10-20T03:09:46.860Z",
          "iopub.status.idle": "2024-10-20T03:09:46.872Z",
          "shell.execute_reply": "2024-10-20T03:09:46.878Z"
        }
      }
    }
  ],
  "metadata": {
    "kernel_info": {
      "name": "python3"
    },
    "language_info": {
      "name": "python",
      "version": "3.10.8",
      "mimetype": "text/x-python",
      "codemirror_mode": {
        "name": "ipython",
        "version": 3
      },
      "pygments_lexer": "ipython3",
      "nbconvert_exporter": "python",
      "file_extension": ".py"
    },
    "kernelspec": {
      "argv": [
        "C:\\Tools\\Python310\\python.exe",
        "-m",
        "ipykernel_launcher",
        "-f",
        "{connection_file}"
      ],
      "display_name": "Python 3 (ipykernel)",
      "language": "python",
      "metadata": {
        "debugger": true
      },
      "name": "python3"
    },
    "nteract": {
      "version": "0.28.0"
    }
  },
  "nbformat": 4,
  "nbformat_minor": 0
}